{
 "cells": [
  {
   "cell_type": "markdown",
   "metadata": {},
   "source": [
    "# <center>Anti-Bias Detection<center>"
   ]
  },
  {
   "cell_type": "markdown",
   "metadata": {
    "toc": true
   },
   "source": [
    "<h1>Table of Contents<span class=\"tocSkip\"></span></h1>\n",
    "<div class=\"toc\"><ul class=\"toc-item\"><li><span><a href=\"#Goal\" data-toc-modified-id=\"Goal-1\"><span class=\"toc-item-num\">1&nbsp;&nbsp;</span>Goal</a></span></li><li><span><a href=\"#Definitions\" data-toc-modified-id=\"Definitions-2\"><span class=\"toc-item-num\">2&nbsp;&nbsp;</span>Definitions</a></span><ul class=\"toc-item\"><li><span><a href=\"#Demographic-Parity\" data-toc-modified-id=\"Demographic-Parity-2.1\"><span class=\"toc-item-num\">2.1&nbsp;&nbsp;</span>Demographic Parity</a></span></li><li><span><a href=\"#Equality-of-Odds\" data-toc-modified-id=\"Equality-of-Odds-2.2\"><span class=\"toc-item-num\">2.2&nbsp;&nbsp;</span>Equality of Odds</a></span></li><li><span><a href=\"#Equality-of-Opportunity\" data-toc-modified-id=\"Equality-of-Opportunity-2.3\"><span class=\"toc-item-num\">2.3&nbsp;&nbsp;</span>Equality of Opportunity</a></span></li><li><span><a href=\"#Link-between-Demographic-Parity-and-Equality-of-Odds\" data-toc-modified-id=\"Link-between-Demographic-Parity-and-Equality-of-Odds-2.4\"><span class=\"toc-item-num\">2.4&nbsp;&nbsp;</span>Link between Demographic Parity and Equality of Odds</a></span></li></ul></li><li><span><a href=\"#Detection\" data-toc-modified-id=\"Detection-3\"><span class=\"toc-item-num\">3&nbsp;&nbsp;</span>Detection</a></span><ul class=\"toc-item\"><li><span><a href=\"#Test-of-independence\" data-toc-modified-id=\"Test-of-independence-3.1\"><span class=\"toc-item-num\">3.1&nbsp;&nbsp;</span>Test of independence</a></span></li><li><span><a href=\"#Merging-p-values\" data-toc-modified-id=\"Merging-p-values-3.2\"><span class=\"toc-item-num\">3.2&nbsp;&nbsp;</span>Merging p-values</a></span></li></ul></li><li><span><a href=\"#Remediation\" data-toc-modified-id=\"Remediation-4\"><span class=\"toc-item-num\">4&nbsp;&nbsp;</span>Remediation</a></span><ul class=\"toc-item\"><li><span><a href=\"#Pre-processing\" data-toc-modified-id=\"Pre-processing-4.1\"><span class=\"toc-item-num\">4.1&nbsp;&nbsp;</span>Pre-processing</a></span></li><li><span><a href=\"#Post-processing\" data-toc-modified-id=\"Post-processing-4.2\"><span class=\"toc-item-num\">4.2&nbsp;&nbsp;</span>Post-processing</a></span></li><li><span><a href=\"#In-training\" data-toc-modified-id=\"In-training-4.3\"><span class=\"toc-item-num\">4.3&nbsp;&nbsp;</span>In-training</a></span></li></ul></li></ul></div>"
   ]
  },
  {
   "cell_type": "markdown",
   "metadata": {},
   "source": [
    "## Goal"
   ]
  },
  {
   "cell_type": "markdown",
   "metadata": {},
   "source": [
    "The intended goal of this documentation is to expose our current understanding of the concept of unbinasedness. We will focus our attention on the *detection* part of bias. That is, evaluating whether a model is fair across any individual irrespective or their ethnicity, gender, etc. We will not look at the remediation aspect and will leave that for later."
   ]
  },
  {
   "cell_type": "markdown",
   "metadata": {},
   "source": [
    "## Definitions"
   ]
  },
  {
   "cell_type": "markdown",
   "metadata": {},
   "source": [
    "Making sure that everyone is treated equally is a very philosophical matter. Many interpretations exist and we will not explore all of them, we will simply express the variations that we think are relevant for our problem."
   ]
  },
  {
   "cell_type": "markdown",
   "metadata": {},
   "source": [
    "The notion of bias can be interpreted with different lenses. We can think of bias as discrimination or we can think of it as a lack of equality. These two concepts are often associated in the sense that discimnation implies a lack of equality and vice versa. We will make this assumption in this document as we will need to solve only one of them."
   ]
  },
  {
   "cell_type": "markdown",
   "metadata": {},
   "source": [
    "### Demographic Parity"
   ]
  },
  {
   "cell_type": "markdown",
   "metadata": {},
   "source": [
    "The demographic parity is one of the first fairness that was proposed in the machine learning community. The idea is rather simple: the output of the model should not be dependent on the protected attribute."
   ]
  },
  {
   "cell_type": "markdown",
   "metadata": {},
   "source": [
    "\\begin{equation*}\n",
    "\\mathbb{P}(\\hat{Y} = 1 | Z=0) = \\mathbb{P}(\\hat{Y} = 1 | Z=1)\n",
    "\\end{equation*}"
   ]
  },
  {
   "cell_type": "markdown",
   "metadata": {},
   "source": [
    "This condition can easily be achieved if we can have $\\hat{Y} \\perp \\!\\!\\! \\perp Z$."
   ]
  },
  {
   "cell_type": "markdown",
   "metadata": {},
   "source": [
    "This measure had the merit of trying to solve bias in machine learning models, however a few concerns were raised about the validity of it. Is it really fair to have the same proportion of people from each protected categories even though a category is generally more qualified than an other?"
   ]
  },
  {
   "cell_type": "markdown",
   "metadata": {},
   "source": [
    "The metric proposed by Feldman et al. (2015) to measure the demographic parity is called the \"disparate impact\"."
   ]
  },
  {
   "cell_type": "markdown",
   "metadata": {},
   "source": [
    "\\begin{equation*}\n",
    "DI = \\frac{\\mathbb{P}(\\hat{Y} = 1 | Z=0)}{\\mathbb{P}(\\hat{Y} = 1 | Z=1)}\n",
    "\\end{equation*}"
   ]
  },
  {
   "cell_type": "markdown",
   "metadata": {},
   "source": [
    "### Equality of Odds"
   ]
  },
  {
   "cell_type": "markdown",
   "metadata": {},
   "source": [
    "Hardt et al. (2016) introduced a new mathematical definition of fairness, where the ground truth $Y$ was conditionally intoduced in order to compensate for the overly positive impact of being part of a protected class."
   ]
  },
  {
   "cell_type": "markdown",
   "metadata": {},
   "source": [
    "\\begin{equation*}\n",
    "\\mathbb{P}(\\hat{Y} = 1 | Z=0, Y=y) = \\mathbb{P}(\\hat{Y} = 1 | Z=1, Y=y); \\;\\;\\; \\forall y \\in \\mathcal{Y}\n",
    "\\end{equation*}"
   ]
  },
  {
   "cell_type": "markdown",
   "metadata": {},
   "source": [
    "Similarly this can be achieved by having $\\hat{Y} \\perp \\!\\!\\! \\perp Z|Y$."
   ]
  },
  {
   "cell_type": "markdown",
   "metadata": {},
   "source": [
    "### Equality of Opportunity"
   ]
  },
  {
   "cell_type": "markdown",
   "metadata": {},
   "source": [
    "The equality of opportunity is a less restrictive measure of fairness derived from the equality of odds but only looking at the positive outcome."
   ]
  },
  {
   "cell_type": "markdown",
   "metadata": {},
   "source": [
    "\\begin{equation*}\n",
    "\\mathbb{P}(\\hat{Y} = 1 | Z=0, Y=1) = \\mathbb{P}(\\hat{Y} = 1 | Z=1, Y=1)\n",
    "\\end{equation*}"
   ]
  },
  {
   "cell_type": "markdown",
   "metadata": {},
   "source": [
    "The independence property of course also applies here. This metric is often reported with the difference of equal opportunity:"
   ]
  },
  {
   "cell_type": "markdown",
   "metadata": {},
   "source": [
    "\\begin{equation*}\n",
    "DEO = \\mathbb{P}(\\hat{Y} = 1 | Z=1, Y=1) - \\mathbb{P}(\\hat{Y} = 1 | Z=0, Y=1)\n",
    "\\end{equation*}"
   ]
  },
  {
   "cell_type": "markdown",
   "metadata": {},
   "source": [
    "### Link between Demographic Parity and Equality of Odds"
   ]
  },
  {
   "cell_type": "markdown",
   "metadata": {},
   "source": [
    "Equality of odds:\n",
    "$$\n",
    "\\mathbb{P}(\\hat{Y}|Z, Y) = \\mathbb{P}(\\hat{Y}|Y)\n",
    "$$\n",
    "\n",
    "Demographic parity:\n",
    "$$\n",
    "\\mathbb{P}(\\hat{Y}|Z) = \\mathbb{P}(\\hat{Y})\n",
    "$$"
   ]
  },
  {
   "cell_type": "markdown",
   "metadata": {},
   "source": [
    "**EO $\\to$ DP:**\n",
    "\n",
    "\\begin{equation*}\n",
    "\\begin{aligned}\n",
    "\\mathbb{P}(\\hat{Y}|Z) &= \\sum_Y \\mathbb{P}(\\hat{Y}|Z, Y)\\mathbb{P}(Y|Z) \\\\\n",
    "                      &= \\sum_Y \\mathbb{P}(\\hat{Y}|Y)\\mathbb{P}(Y|Z) \\;\\;\\;\\; &\\text{using (1)} \\\\\n",
    "                      &= \\sum_Y \\mathbb{P}(\\hat{Y}|Y)\\mathbb{P}(Y) \\;\\;\\;\\; & \\text{iff } Y \\perp \\!\\!\\! \\perp Z\\\\\n",
    "                      &= \\mathbb{P}(\\hat{Y}) \\;\\;\\;\\; &\\text{which is (2)}\n",
    "\\end{aligned}\n",
    "\\end{equation*}"
   ]
  },
  {
   "cell_type": "markdown",
   "metadata": {},
   "source": [
    "**DP $\\to$ EO:**\n",
    "\n",
    "\\begin{equation*}\n",
    "\\begin{aligned}\n",
    "\\mathbb{P}(\\hat{Y}|Z, Y) &= \\frac{\\mathbb{P}(\\hat{Y}, Z, Y)}{\\mathbb{P}(Z, Y)} \\\\\n",
    "                         &= \\frac{\\mathbb{P}(Y,Z|\\hat{Y})\\mathbb{P}(\\hat{Y})}{\\mathbb{P}(Z, Y)} \\\\\n",
    "                         &= \\frac{\\mathbb{P}(Y|\\hat{Y})\\mathbb{P}(Z|\\hat{Y})\\mathbb{P}(\\hat{Y})}{\\mathbb{P}(Z, Y)} \\;\\;\\;\\; &\\text{if }Y \\perp \\!\\!\\! \\perp Z|\\hat{Y} \\\\\n",
    "                         &= \\frac{\\mathbb{P}(Y|\\hat{Y})\\mathbb{P}(\\hat{Y})\\mathbb{P}(Z)}{\\mathbb{P}(Z, Y)} \\;\\;\\;\\; &\\text{using the fact that }\\hat{Y} \\perp \\!\\!\\! \\perp Z \\text{ from DP} \\\\\n",
    "                         &= \\frac{\\mathbb{P}(Y,\\hat{Y})\\mathbb{P}(Z)}{\\mathbb{P}(Z)\\mathbb{P}(Y)} \\;\\;\\;\\; &\\text{if }Y \\perp \\!\\!\\! \\perp Z \\\\\n",
    "                         &= \\mathbb{P}(\\hat{Y}|Y) \\;\\;\\;\\; &\\text{which is (1)}\n",
    "\\end{aligned}\n",
    "\\end{equation*}"
   ]
  },
  {
   "cell_type": "markdown",
   "metadata": {},
   "source": [
    "## Detection"
   ]
  },
  {
   "cell_type": "markdown",
   "metadata": {},
   "source": [
    "As mentioned above, if we have independence between the predicted variable $\\hat{Y}$ and the protected characteristic $Z$ we can guarantee complete fairness of the model."
   ]
  },
  {
   "cell_type": "markdown",
   "metadata": {},
   "source": [
    "Another way to think of the problem is therefore to evaluate how dependent (or how independent) the random variables $\\hat{Y}$ and $Z$ are."
   ]
  },
  {
   "cell_type": "markdown",
   "metadata": {},
   "source": [
    "### Test of independence"
   ]
  },
  {
   "cell_type": "markdown",
   "metadata": {},
   "source": [
    "**References**: \n",
    "\n",
    "- [\"A multivariate nonparametric test of independence\"](https://doi.org/10.1016/j.jmva.2005.10.005); Nail K.Bakirov, Maria L.Rizzo, Gábor J.Székely (2006)\n",
    "- [\"Multivariate nonparametric test of independence\"](http://dx.doi.org/10.1016/j.jmva.2016.09.014); Yanan Fan, Pierre Lafaye de Micheaux, Spiridon Penev, Donna Salopek (2015)\n",
    "- [\"Model-Powered Conditional Independence Test\"](https://arxiv.org/abs/1709.06138); Rajat Sen, Ananda Theertha Suresh, Karthikeyan Shanmugam, Alexandros G. Dimakis, Sanjay Shakkottai (2017)"
   ]
  },
  {
   "cell_type": "markdown",
   "metadata": {},
   "source": [
    "**Packages**: \n",
    "\n",
    "- https://cran.r-project.org/web/packages/HHG/vignettes/HHG.html\n",
    "- https://www.rdocumentation.org/packages/energy/versions/1.7-7/topics/indep.test\n",
    "- https://github.com/rajatsen91/CCIT"
   ]
  },
  {
   "cell_type": "markdown",
   "metadata": {},
   "source": [
    "The most famous independence test is the Chi-squared test but it comes with some limitations. How do we evaluate the independence of multivariate random variable. We therefore need to find another method better suited for our problem."
   ]
  },
  {
   "cell_type": "markdown",
   "metadata": {},
   "source": [
    "We review the very influential paper _\"A multivariate nonparametric test of independence\"_ (Bakirov, Rizzo, Székely; 2006) which offers an alternative to deal with multivariate random variables."
   ]
  },
  {
   "cell_type": "markdown",
   "metadata": {},
   "source": [
    "Suppose $X \\in \\mathbf{R}^p$ and $Y \\in \\mathbf{R}^q$ with unspecified distribution $F_1$ and $F_2$, and unspecified joint distribution $F$. We want to test whether $X$ and $Y$ are independent, which corresponds to test the following hypothesis:"
   ]
  },
  {
   "cell_type": "markdown",
   "metadata": {},
   "source": [
    "\\begin{equation*}\n",
    "H_0: F = F_1F_2 \\;\\;\\;\\; H_1: F \\neq F_1F_2\n",
    "\\end{equation*}"
   ]
  },
  {
   "cell_type": "markdown",
   "metadata": {},
   "source": [
    "We denote $\\mathcal{I} = \\mathcal{I}(X, Y)$ the coefficient of independence of $X$ and $Y$. We have $0 \\leq \\mathcal{I} \\leq 1$, with $\\mathcal{I}=0$ if and only if $X$ and $Y$ are independent. We will also denote $\\mathcal{I}_n$ the empirical counterpart."
   ]
  },
  {
   "cell_type": "markdown",
   "metadata": {},
   "source": [
    "#### Empirical Statistic"
   ]
  },
  {
   "cell_type": "markdown",
   "metadata": {},
   "source": [
    "Let $Z_{kl} = (X_k, Y_l); \\;\\; X_k \\in \\mathbf{R}^p, Y_l \\in \\mathbf{R}^q$ a random sample from a general population $Z = (X, Y) \\in \\mathbf{R}^{p+q}$. We also assume that neither $X$ nor $Y$ are constant."
   ]
  },
  {
   "cell_type": "markdown",
   "metadata": {},
   "source": [
    "\\begin{equation*}\n",
    "\\mathcal{I}_n = \\sqrt{\\frac{2\\bar{z} - z_d - z}{x+y-z}}\n",
    "\\end{equation*}"
   ]
  },
  {
   "cell_type": "markdown",
   "metadata": {},
   "source": [
    "where:"
   ]
  },
  {
   "cell_type": "markdown",
   "metadata": {},
   "source": [
    "\\begin{equation*}\n",
    "\\begin{aligned}\n",
    "z_d &= \\frac{1}{n^2} \\sum_{k,l=1}^n |Z_{kk} - Z_{ll}|_{p+q} \\\\\n",
    "\\bar{z} &= \\frac{1}{n^3} \\sum_{k=1}^n \\sum_{i,j=1}^n |Z_{kk} - Z_{ij}|_{p+q} \\\\\n",
    "z &= \\frac{1}{n^4} \\sum_{k,l=1}^n \\sum_{i,j=1}^n |Z_{kl} - Z_{ij}|_{p+q} \\\\\n",
    "x &= \\frac{1}{n^2} \\sum_{k,l=1}^n |X_{k} - X_{l}|_{p} \\\\\n",
    "y &= \\frac{1}{n^2} \\sum_{k,l=1}^n |Y_{k} - Y_{l}|_{q}\n",
    "\\end{aligned}\n",
    "\\end{equation*}"
   ]
  },
  {
   "cell_type": "markdown",
   "metadata": {},
   "source": [
    "#### Theoretical Coefficient"
   ]
  },
  {
   "cell_type": "markdown",
   "metadata": {},
   "source": [
    "We know spend some time on the coefficient $\\mathcal{I}$."
   ]
  },
  {
   "cell_type": "markdown",
   "metadata": {},
   "source": [
    "\\begin{equation*}\n",
    "\\mathcal{I} = \\mathcal{I}(f) = \\frac{\\|f(t, s) - f_1(t)f_2(s)\\|}{\\|\\sqrt{(1-|f_1(t)|^2)(1-|f_2(s)|^2)}\\|}\n",
    "\\end{equation*}"
   ]
  },
  {
   "cell_type": "markdown",
   "metadata": {},
   "source": [
    "With $\\|\\;.\\|$ the norm operator such that:"
   ]
  },
  {
   "cell_type": "markdown",
   "metadata": {},
   "source": [
    "\\begin{equation*}\n",
    "\\|\\alpha(s, t)\\|^2 = \\int_{\\mathbf{R}^{p+q}}|\\alpha(s, t)|^2 q(s, t) ds dt\n",
    "\\end{equation*}"
   ]
  },
  {
   "cell_type": "markdown",
   "metadata": {},
   "source": [
    "We can prove that:\n",
    "\n",
    "1. if $\\mathbf{E}(|X|_p + |Y|_q) < \\infty$ then $\\lim_{n \\to \\infty} \\mathcal{I}_n = \\mathcal{I}$."
   ]
  },
  {
   "cell_type": "markdown",
   "metadata": {},
   "source": [
    "### Merging p-values"
   ]
  },
  {
   "cell_type": "markdown",
   "metadata": {},
   "source": [
    "**References**: \n",
    "\n",
    "- [\"The harmonic mean p-value for combining dependent tests\"](https://doi.org/10.1073/pnas.1814092116); Daniel J. Wilson (2019)\n",
    "- [\"A modified generalized Fisher method for combining probabilities from dependent tests\"](https://dx.doi.org/10.3389%2Ffgene.2014.00032); Hongying Dai, J. Steven Leeder, Yuehua Cui (2014)\n",
    "- [\"Combining dependent P-values\"](https://doi.org/10.1016/S0167-7152(02)00310-3); James T. Kost, Michael P. McDermott (2002)"
   ]
  },
  {
   "cell_type": "markdown",
   "metadata": {},
   "source": [
    "Running multiple tests on the same dataset can be dangerous and the p-values resulting from these tests should be treated with care. In fact, the more tests we run the more likely a result will appear as significant simply by chance."
   ]
  },
  {
   "cell_type": "markdown",
   "metadata": {},
   "source": [
    "To provide an example, if we run $100$ independent tests with at a $5\\%$ significance level on the experiment. For each test there taken individually there is only $5\\%$ chances of observing a significant result even if in reality it is not significant. We consider this threshold as reasonable as it is fairly low. However, when considering multiple tests we have the following:"
   ]
  },
  {
   "cell_type": "markdown",
   "metadata": {},
   "source": [
    "\\begin{equation*}\n",
    "\\begin{aligned}\n",
    "\\mathbb{P}(\\text{at least one significant result}) &= 1 - \\mathbb{P}(\\text{no significant results}) \\\\\n",
    "                                                   &= 1 - (1-0.05)^{100} \\\\\n",
    "                                                   &= 0.994 \\\\\n",
    "                                                   &= 99.4\\% \\\\\n",
    "\\end{aligned}\n",
    "\\end{equation*}"
   ]
  },
  {
   "cell_type": "markdown",
   "metadata": {},
   "source": [
    "We see that now the probability of wrongly observing at least one significant results across the $100$ tests is $99.4\\%$."
   ]
  },
  {
   "cell_type": "markdown",
   "metadata": {},
   "source": [
    "It is therefore important to accomodate for this, and \"correct\" the p-values to make sure that the probability of wrongly identifying a test as significant is under the threshold that we consider acceptable."
   ]
  },
  {
   "cell_type": "markdown",
   "metadata": {},
   "source": [
    "For our scenario, we are in the presence of non-independent tests. We want to test whether the model is biased. We want to perform a test for *demographic parity* and for *equality of odds*. We have shown above that these $2$ metrics are not independent and we should take this into consideration during our testing. We also have the scenario where we want to test whether the model is bias for different categories (male, female, black male, white female, ...)."
   ]
  },
  {
   "cell_type": "markdown",
   "metadata": {},
   "source": [
    "#### Harmonic Mean"
   ]
  },
  {
   "cell_type": "markdown",
   "metadata": {},
   "source": [
    "In his paper, Wilson proposes a solution when we have multiple mutually exclusive alternative hypotheses sharing the  same null hypothesis. He computes the harmonic mean of the p-values of the individual tests:"
   ]
  },
  {
   "cell_type": "markdown",
   "metadata": {},
   "source": [
    "\\begin{equation*}\n",
    "\\hat{p_\\mathcal{R}} = \\frac{\\sum_{i \\in \\mathcal{R}}w_i}{\\sum_{i \\in \\mathcal{R}}w_i/p_i} = \\frac{w_\\mathcal{R}}{\\sum_{i \\in \\mathcal{R}}w_i/p_i}\n",
    "\\end{equation*}"
   ]
  },
  {
   "cell_type": "markdown",
   "metadata": {},
   "source": [
    "where $\\mathcal{R}$ is the set of tests, $w_i$ is the weight assigned to each test, $p_i$ the p-value obtain for each test."
   ]
  },
  {
   "cell_type": "markdown",
   "metadata": {},
   "source": [
    "\\begin{equation*}\n",
    "\\begin{aligned}\n",
    "\\text{if } \\;\\;& \\hat{p}_\\mathcal{R} \\leq \\alpha w_\\mathcal{R} & \\text{reject }\\mathcal{M}_0\\text{ in favour of }\\mathcal{M}_\\mathcal{R} \\\\\n",
    "\\text{otherwise } \\;\\;& & \\text{do not reject } \\mathcal{M}_0\\text{ for }\\mathcal{M}_\\mathcal{R}\n",
    "\\end{aligned}\n",
    "\\end{equation*}"
   ]
  },
  {
   "cell_type": "markdown",
   "metadata": {},
   "source": [
    "## Remediation"
   ]
  },
  {
   "cell_type": "markdown",
   "metadata": {},
   "source": [
    "### Pre-processing"
   ]
  },
  {
   "cell_type": "markdown",
   "metadata": {},
   "source": [
    "**References**: \n",
    "\n",
    "- [\"Optimized Pre-Processing for Discrimination Prevention\"](http://papers.nips.cc/paper/6988-optimized-pre-processing-for-discrimination-prevention.pdf%20http://papers.nips.cc/paper/6988-optimized-pre-processing-for-discrimination-prevention.pdf); Flavio Calmon, Dennis Wei, Bhanukiran Vinzamuri, Karthikeyan Natesan Ramamurthy, Kush R. Varshney (2017)"
   ]
  },
  {
   "cell_type": "markdown",
   "metadata": {},
   "source": [
    "### Post-processing"
   ]
  },
  {
   "cell_type": "markdown",
   "metadata": {},
   "source": [
    "**References**: \n",
    "\n",
    "- [\"Equality of Opportunity in Supervised Learning\"](https://dl.acm.org/doi/10.5555/3157382.3157469); Moritz Hardt, Eric Price, Nathan Srebro (2016)"
   ]
  },
  {
   "cell_type": "markdown",
   "metadata": {},
   "source": [
    "### In-training"
   ]
  },
  {
   "cell_type": "code",
   "execution_count": null,
   "metadata": {},
   "outputs": [],
   "source": []
  }
 ],
 "metadata": {
  "hide_input": false,
  "kernelspec": {
   "display_name": "Python 3",
   "language": "python",
   "name": "python3"
  },
  "language_info": {
   "codemirror_mode": {
    "name": "ipython",
    "version": 3
   },
   "file_extension": ".py",
   "mimetype": "text/x-python",
   "name": "python",
   "nbconvert_exporter": "python",
   "pygments_lexer": "ipython3",
   "version": "3.7.7"
  },
  "latex_envs": {
   "LaTeX_envs_menu_present": true,
   "autoclose": false,
   "autocomplete": false,
   "bibliofile": "biblio.bib",
   "cite_by": "apalike",
   "current_citInitial": 1,
   "eqLabelWithNumbers": true,
   "eqNumInitial": 1,
   "hotkeys": {
    "equation": "Ctrl-E",
    "itemize": "Ctrl-I"
   },
   "labels_anchors": false,
   "latex_user_defs": false,
   "report_style_numbering": false,
   "user_envs_cfg": false
  },
  "toc": {
   "base_numbering": 1,
   "nav_menu": {
    "height": "108px",
    "width": "203px"
   },
   "number_sections": true,
   "sideBar": true,
   "skip_h1_title": true,
   "title_cell": "Table of Contents",
   "title_sidebar": "Contents",
   "toc_cell": true,
   "toc_position": {
    "height": "calc(100% - 180px)",
    "left": "10px",
    "top": "150px",
    "width": "336px"
   },
   "toc_section_display": false,
   "toc_window_display": false
  }
 },
 "nbformat": 4,
 "nbformat_minor": 2
}
